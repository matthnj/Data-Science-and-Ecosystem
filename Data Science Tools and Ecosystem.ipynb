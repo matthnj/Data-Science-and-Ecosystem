{
 "cells": [
  {
   "cell_type": "markdown",
   "id": "7198a6e6-8769-44d5-8d61-19ae970a7d05",
   "metadata": {},
   "source": [
    "# Popular languages for Data Science"
   ]
  },
  {
   "cell_type": "markdown",
   "id": "61d60f4e-5438-479a-858a-be91b699565e",
   "metadata": {
    "tags": []
   },
   "source": [
    "#  Objectives:\n",
    "\n",
    "###  Python: Widely used for data analysis, machine learning, and scripting due to its extensive libraries \n",
    "###  R: Specifically designed for statistical analysis and visualization. It has a rich ecosystem of packages\n",
    "###  SQL: Essential for managing and querying relational databases, crucial for accessing and manipulating structured data.\n",
    "###  Julia: Emerging as a high-performance language for technical computing, especially for tasks involving large-scale numerical simulations and data analysis.\n",
    "### Scala: Often used with Apache Spark for distributed computing and big data processing.\n",
    "### MATLAB: Known for its numerical computing capabilities, widely used in academia and industries like engineering, science, and economics."
   ]
  },
  {
   "cell_type": "markdown",
   "id": "776a5419-0d83-43ad-b796-d19c25fc1928",
   "metadata": {
    "tags": []
   },
   "source": [
    "##  Auther"
   ]
  },
  {
   "cell_type": "code",
   "execution_count": null,
   "id": "5b5e40ee-a353-4acf-9ae1-5f7f8aa3207f",
   "metadata": {},
   "outputs": [],
   "source": []
  }
 ],
 "metadata": {
  "kernelspec": {
   "display_name": "Python",
   "language": "python",
   "name": "conda-env-python-py"
  },
  "language_info": {
   "codemirror_mode": {
    "name": "ipython",
    "version": 3
   },
   "file_extension": ".py",
   "mimetype": "text/x-python",
   "name": "python",
   "nbconvert_exporter": "python",
   "pygments_lexer": "ipython3",
   "version": "3.7.12"
  },
  "toc-showcode": true,
  "toc-showmarkdowntxt": true
 },
 "nbformat": 4,
 "nbformat_minor": 5
}
